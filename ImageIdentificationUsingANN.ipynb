{
 "cells": [
  {
   "cell_type": "code",
   "execution_count": 32,
   "id": "d3435aac",
   "metadata": {},
   "outputs": [],
   "source": [
    "import tensorflow as tf\n",
    "import pandas as pd\n",
    "import numpy as np\n",
    "import matplotlib.pyplot as plt\n",
    "from tensorflow import keras"
   ]
  },
  {
   "cell_type": "code",
   "execution_count": 3,
   "id": "d337f710",
   "metadata": {},
   "outputs": [
    {
     "data": {
      "text/plain": [
       "[PhysicalDevice(name='/physical_device:CPU:0', device_type='CPU')]"
      ]
     },
     "execution_count": 3,
     "metadata": {},
     "output_type": "execute_result"
    }
   ],
   "source": [
    "tf.config.experimental.list_physical_devices()"
   ]
  },
  {
   "cell_type": "code",
   "execution_count": 4,
   "id": "b4bfdf76",
   "metadata": {},
   "outputs": [
    {
     "data": {
      "text/plain": [
       "True"
      ]
     },
     "execution_count": 4,
     "metadata": {},
     "output_type": "execute_result"
    }
   ],
   "source": [
    "tf.test.is_built_with_cuda()"
   ]
  },
  {
   "cell_type": "code",
   "execution_count": 6,
   "id": "f7d281fb",
   "metadata": {},
   "outputs": [
    {
     "name": "stdout",
     "output_type": "stream",
     "text": [
      "Downloading data from https://www.cs.toronto.edu/~kriz/cifar-10-python.tar.gz\n",
      "170500096/170498071 [==============================] - 341s 2us/step\n",
      "170508288/170498071 [==============================] - 341s 2us/step\n"
     ]
    }
   ],
   "source": [
    "(x_train, y_train), (x_test, y_test) = tf.keras.datasets.cifar10.load_data()"
   ]
  },
  {
   "cell_type": "code",
   "execution_count": 7,
   "id": "a4a4485b",
   "metadata": {},
   "outputs": [
    {
     "data": {
      "text/plain": [
       "(50000, 32, 32, 3)"
      ]
     },
     "execution_count": 7,
     "metadata": {},
     "output_type": "execute_result"
    }
   ],
   "source": [
    "x_train.shape"
   ]
  },
  {
   "cell_type": "code",
   "execution_count": 8,
   "id": "69eeff14",
   "metadata": {},
   "outputs": [
    {
     "data": {
      "text/plain": [
       "(50000, 1)"
      ]
     },
     "execution_count": 8,
     "metadata": {},
     "output_type": "execute_result"
    }
   ],
   "source": [
    "y_train.shape"
   ]
  },
  {
   "cell_type": "code",
   "execution_count": 23,
   "id": "e18d002d",
   "metadata": {},
   "outputs": [],
   "source": [
    "def plot_sample(index):\n",
    "    plt.figure(figsize=(10,1))\n",
    "    plt.imshow(x_train[index])"
   ]
  },
  {
   "cell_type": "code",
   "execution_count": 24,
   "id": "dba4e5a6",
   "metadata": {},
   "outputs": [
    {
     "data": {
      "image/png": "[encoded data removed]",
      "text/plain": [
       "<Figure size 720x72 with 1 Axes>"
      ]
     },
     "metadata": {
      "needs_background": "light"
     },
     "output_type": "display_data"
    }
   ],
   "source": [
    "plot_sample(1)"
   ]
  },
  {
   "cell_type": "code",
   "execution_count": 25,
   "id": "4eaeb174",
   "metadata": {},
   "outputs": [],
   "source": [
    "classes = [\"airplane\",\"automobile\",\"bird\",\"cat\",\"deer\",\"dog\",\"frog\",\"horse\",\"ship\",\"truck\"]"
   ]
  },
  {
   "cell_type": "code",
   "execution_count": 26,
   "id": "608649ce",
   "metadata": {},
   "outputs": [],
   "source": [
    "x_train_s = x_train/255\n",
    "x_test_s = x_test/255"
   ]
  },
  {
   "cell_type": "code",
   "execution_count": 29,
   "id": "0fd2e885",
   "metadata": {},
   "outputs": [
    {
     "data": {
      "text/plain": [
       "array([[[1.        , 1.        , 1.        ],\n",
       "        [0.99215686, 0.99215686, 0.99215686],\n",
       "        [0.99215686, 0.99215686, 0.99215686],\n",
       "        ...,\n",
       "        [0.99215686, 0.99215686, 0.99215686],\n",
       "        [0.99215686, 0.99215686, 0.99215686],\n",
       "        [0.99215686, 0.99215686, 0.99215686]],\n",
       "\n",
       "       [[1.        , 1.        , 1.        ],\n",
       "        [1.        , 1.        , 1.        ],\n",
       "        [1.        , 1.        , 1.        ],\n",
       "        ...,\n",
       "        [1.        , 1.        , 1.        ],\n",
       "        [1.        , 1.        , 1.        ],\n",
       "        [1.        , 1.        , 1.        ]],\n",
       "\n",
       "       [[1.        , 1.        , 1.        ],\n",
       "        [0.99607843, 0.99607843, 0.99607843],\n",
       "        [0.99607843, 0.99607843, 0.99607843],\n",
       "        ...,\n",
       "        [0.99607843, 0.99607843, 0.99607843],\n",
       "        [0.99607843, 0.99607843, 0.99607843],\n",
       "        [0.99607843, 0.99607843, 0.99607843]],\n",
       "\n",
       "       ...,\n",
       "\n",
       "       [[0.44313725, 0.47058824, 0.43921569],\n",
       "        [0.43529412, 0.4627451 , 0.43529412],\n",
       "        [0.41176471, 0.43921569, 0.41568627],\n",
       "        ...,\n",
       "        [0.28235294, 0.31764706, 0.31372549],\n",
       "        [0.28235294, 0.31372549, 0.30980392],\n",
       "        [0.28235294, 0.31372549, 0.30980392]],\n",
       "\n",
       "       [[0.43529412, 0.4627451 , 0.43137255],\n",
       "        [0.40784314, 0.43529412, 0.40784314],\n",
       "        [0.38823529, 0.41568627, 0.38431373],\n",
       "        ...,\n",
       "        [0.26666667, 0.29411765, 0.28627451],\n",
       "        [0.2745098 , 0.29803922, 0.29411765],\n",
       "        [0.30588235, 0.32941176, 0.32156863]],\n",
       "\n",
       "       [[0.41568627, 0.44313725, 0.41176471],\n",
       "        [0.38823529, 0.41568627, 0.38431373],\n",
       "        [0.37254902, 0.4       , 0.36862745],\n",
       "        ...,\n",
       "        [0.30588235, 0.33333333, 0.3254902 ],\n",
       "        [0.30980392, 0.33333333, 0.3254902 ],\n",
       "        [0.31372549, 0.3372549 , 0.32941176]]])"
      ]
     },
     "execution_count": 29,
     "metadata": {},
     "output_type": "execute_result"
    }
   ],
   "source": [
    "x_train_s[2]"
   ]
  },
  {
   "cell_type": "code",
   "execution_count": 30,
   "id": "fc735d9f",
   "metadata": {},
   "outputs": [
    {
     "data": {
      "text/plain": [
       "array([[6],\n",
       "       [9],\n",
       "       [9],\n",
       "       [4],\n",
       "       [1]], dtype=uint8)"
      ]
     },
     "execution_count": 30,
     "metadata": {},
     "output_type": "execute_result"
    }
   ],
   "source": [
    "y_train[:5]"
   ]
  },
  {
   "cell_type": "code",
   "execution_count": 33,
   "id": "e9d6b6dc",
   "metadata": {},
   "outputs": [],
   "source": [
    "\n",
    "y_train_categorical = keras.utils.to_categorical(\n",
    "    y_train, num_classes=10, dtype='float32'\n",
    ")\n",
    "y_test_categorical = keras.utils.to_categorical(\n",
    "    y_test, num_classes=10, dtype='float32'\n",
    ")"
   ]
  },
  {
   "cell_type": "code",
   "execution_count": 37,
   "id": "02638e2e",
   "metadata": {
    "scrolled": true
   },
   "outputs": [
    {
     "name": "stdout",
     "output_type": "stream",
     "text": [
      "Epoch 1/50\n",
      "1563/1563 [==============================] - 157s 99ms/step - loss: 1.8031 - accuracy: 0.3584s - loss: 1.8030 - accuracy: \n",
      "Epoch 2/50\n",
      "1563/1563 [==============================] - 144s 92ms/step - loss: 1.6169 - accuracy: 0.4315\n",
      "Epoch 3/50\n",
      "1563/1563 [==============================] - 151s 97ms/step - loss: 1.5337 - accuracy: 0.4602\n",
      "Epoch 4/50\n",
      "1563/1563 [==============================] - 141s 90ms/step - loss: 1.4736 - accuracy: 0.4793s - loss: 1.4\n",
      "Epoch 5/50\n",
      "1563/1563 [==============================] - 149s 95ms/step - loss: 1.4244 - accuracy: 0.4985\n",
      "Epoch 6/50\n",
      "1563/1563 [==============================] - 148s 95ms/step - loss: 1.3809 - accuracy: 0.5168\n",
      "Epoch 7/50\n",
      "1563/1563 [==============================] - 141s 90ms/step - loss: 1.3413 - accuracy: 0.5277s - loss: 1.3399 - accura\n",
      "Epoch 8/50\n",
      "1563/1563 [==============================] - 141s 90ms/step - loss: 1.3065 - accuracy: 0.5396\n",
      "Epoch 9/50\n",
      "1563/1563 [==============================] - 141s 90ms/step - loss: 1.2751 - accuracy: 0.5528\n",
      "Epoch 10/50\n",
      "1563/1563 [==============================] - 138s 89ms/step - loss: 1.2405 - accuracy: 0.5673\n",
      "Epoch 11/50\n",
      "1563/1563 [==============================] - 149s 95ms/step - loss: 1.2100 - accuracy: 0.5791\n",
      "Epoch 12/50\n",
      "1563/1563 [==============================] - 144s 92ms/step - loss: 1.1815 - accuracy: 0.5896\n",
      "Epoch 13/50\n",
      "1563/1563 [==============================] - 140s 89ms/step - loss: 1.1540 - accuracy: 0.5981\n",
      "Epoch 14/50\n",
      "1563/1563 [==============================] - 163s 104ms/step - loss: 1.1243 - accuracy: 0.6068\n",
      "Epoch 15/50\n",
      "1563/1563 [==============================] - 148s 95ms/step - loss: 1.0958 - accuracy: 0.6184\n",
      "Epoch 16/50\n",
      "1563/1563 [==============================] - 145s 93ms/step - loss: 1.0706 - accuracy: 0.6268\n",
      "Epoch 17/50\n",
      "1563/1563 [==============================] - 142s 91ms/step - loss: 1.0420 - accuracy: 0.6391\n",
      "Epoch 18/50\n",
      "1563/1563 [==============================] - 143s 91ms/step - loss: 1.0157 - accuracy: 0.6499s - - ETA: 0s - loss: 1.015\n",
      "Epoch 19/50\n",
      "1563/1563 [==============================] - 142s 91ms/step - loss: 0.9862 - accuracy: 0.6572\n",
      "Epoch 20/50\n",
      "1563/1563 [==============================] - 143s 91ms/step - loss: 0.9615 - accuracy: 0.6668\n",
      "Epoch 21/50\n",
      "1563/1563 [==============================] - 143s 92ms/step - loss: 0.9357 - accuracy: 0.6780\n",
      "Epoch 22/50\n",
      "1563/1563 [==============================] - 146s 93ms/step - loss: 0.9104 - accuracy: 0.6868\n",
      "Epoch 23/50\n",
      "1563/1563 [==============================] - 152s 97ms/step - loss: 0.8824 - accuracy: 0.6962\n",
      "Epoch 24/50\n",
      "1563/1563 [==============================] - 148s 95ms/step - loss: 0.8508 - accuracy: 0.7072\n",
      "Epoch 25/50\n",
      "1563/1563 [==============================] - 142s 91ms/step - loss: 0.8267 - accuracy: 0.7167\n",
      "Epoch 26/50\n",
      "1563/1563 [==============================] - 161s 103ms/step - loss: 0.7990 - accuracy: 0.7280\n",
      "Epoch 27/50\n",
      "1563/1563 [==============================] - 143s 91ms/step - loss: 0.7746 - accuracy: 0.7384\n",
      "Epoch 28/50\n",
      "1563/1563 [==============================] - 145s 93ms/step - loss: 0.7493 - accuracy: 0.7466\n",
      "Epoch 29/50\n",
      "1563/1563 [==============================] - 143s 91ms/step - loss: 0.7213 - accuracy: 0.7587\n",
      "Epoch 30/50\n",
      "1563/1563 [==============================] - 143s 92ms/step - loss: 0.6929 - accuracy: 0.7681\n",
      "Epoch 31/50\n",
      "1563/1563 [==============================] - 146s 94ms/step - loss: 0.6694 - accuracy: 0.7741\n",
      "Epoch 32/50\n",
      "1563/1563 [==============================] - 155s 99ms/step - loss: 0.6419 - accuracy: 0.7859\n",
      "Epoch 33/50\n",
      "1563/1563 [==============================] - 147s 94ms/step - loss: 0.6161 - accuracy: 0.7953s - loss: 0.6\n",
      "Epoch 34/50\n",
      "1563/1563 [==============================] - 142s 91ms/step - loss: 0.5924 - accuracy: 0.8033\n",
      "Epoch 35/50\n",
      "1563/1563 [==============================] - 143s 91ms/step - loss: 0.5685 - accuracy: 0.8123\n",
      "Epoch 36/50\n",
      "1563/1563 [==============================] - 153s 98ms/step - loss: 0.5416 - accuracy: 0.8228\n",
      "Epoch 37/50\n",
      "1563/1563 [==============================] - 164s 105ms/step - loss: 0.5169 - accuracy: 0.8299\n",
      "Epoch 38/50\n",
      "1563/1563 [==============================] - 170s 109ms/step - loss: 0.4925 - accuracy: 0.8408 - loss:\n",
      "Epoch 39/50\n",
      "1563/1563 [==============================] - 152s 97ms/step - loss: 0.4670 - accuracy: 0.8498\n",
      "Epoch 40/50\n",
      "1563/1563 [==============================] - 144s 92ms/step - loss: 0.4456 - accuracy: 0.8590\n",
      "Epoch 41/50\n",
      "1563/1563 [==============================] - 144s 92ms/step - loss: 0.4216 - accuracy: 0.8681\n",
      "Epoch 42/50\n",
      "1563/1563 [==============================] - 156s 100ms/step - loss: 0.4012 - accuracy: 0.8732\n",
      "Epoch 43/50\n",
      "1563/1563 [==============================] - 212s 135ms/step - loss: 0.3788 - accuracy: 0.8831\n",
      "Epoch 44/50\n",
      "1563/1563 [==============================] - 178s 114ms/step - loss: 0.3600 - accuracy: 0.8901\n",
      "Epoch 45/50\n",
      "1563/1563 [==============================] - 138s 89ms/step - loss: 0.3388 - accuracy: 0.8978\n",
      "Epoch 46/50\n",
      "1563/1563 [==============================] - 139s 89ms/step - loss: 0.3183 - accuracy: 0.9061\n",
      "Epoch 47/50\n",
      "1563/1563 [==============================] - 142s 91ms/step - loss: 0.3011 - accuracy: 0.9110\n",
      "Epoch 48/50\n",
      "1563/1563 [==============================] - 141s 90ms/step - loss: 0.2825 - accuracy: 0.9174\n",
      "Epoch 49/50\n",
      "1563/1563 [==============================] - 142s 91ms/step - loss: 0.2655 - accuracy: 0.9247\n",
      "Epoch 50/50\n",
      "1563/1563 [==============================] - 141s 90ms/step - loss: 0.2470 - accuracy: 0.9315\n"
     ]
    },
    {
     "data": {
      "text/plain": [
       "<keras.callbacks.History at 0x2f68b7d2490>"
      ]
     },
     "execution_count": 37,
     "metadata": {},
     "output_type": "execute_result"
    }
   ],
   "source": [
    "model = keras.Sequential([\n",
    "     keras.layers.Flatten(input_shape = (32, 32, 3)),\n",
    "     keras.layers.Dense(3000, activation = 'relu'),\n",
    "     keras.layers.Dense(3000, activation = 'relu'),\n",
    "     keras.layers.Dense(10, activation = 'sigmoid')\n",
    "    \n",
    "])\n",
    "model.compile(optimizer='SGD',\n",
    "             loss = 'categorical_crossentropy',\n",
    "             metrics = ['accuracy'])\n",
    "model.fit(x_train_s, y_train_categorical, epochs=50)"
   ]
  },
  {
   "cell_type": "code",
   "execution_count": 51,
   "id": "2db61089",
   "metadata": {},
   "outputs": [
    {
     "data": {
      "text/plain": [
       "'ship'"
      ]
     },
     "execution_count": 51,
     "metadata": {},
     "output_type": "execute_result"
    }
   ],
   "source": [
    "classes[np.argmax(model.predict(x_test_s)[1])]"
   ]
  },
  {
   "cell_type": "code",
   "execution_count": 46,
   "id": "0175df51",
   "metadata": {},
   "outputs": [
    {
     "data": {
      "text/plain": [
       "'ship'"
      ]
     },
     "execution_count": 46,
     "metadata": {},
     "output_type": "execute_result"
    }
   ],
   "source": [
    "classes[y_test[1][0]]"
   ]
  },
  {
   "cell_type": "code",
   "execution_count": 52,
   "id": "703cb0cf",
   "metadata": {},
   "outputs": [],
   "source": [
    "def plot_sample1(index):\n",
    "    plt.figure(figsize=(10,1))\n",
    "    plt.imshow(x_test_s[index])"
   ]
  },
  {
   "cell_type": "code",
   "execution_count": 53,
   "id": "435090cd",
   "metadata": {},
   "outputs": [
    {
     "data": {
      "image/png": "[encoded data removed]",
      "text/plain": [
       "<Figure size 720x72 with 1 Axes>"
      ]
     },
     "metadata": {
      "needs_background": "light"
     },
     "output_type": "display_data"
    }
   ],
   "source": [
    "plot_sample1(1)"
   ]
  },
  {
   "cell_type": "code",
   "execution_count": null,
   "id": "b1524dc2",
   "metadata": {},
   "outputs": [],
   "source": []
  }
 ],
 "metadata": {
  "kernelspec": {
   "display_name": "Python 3 (ipykernel)",
   "language": "python",
   "name": "python3"
  },
  "language_info": {
   "codemirror_mode": {
    "name": "ipython",
    "version": 3
   },
   "file_extension": ".py",
   "mimetype": "text/x-python",
   "name": "python",
   "nbconvert_exporter": "python",
   "pygments_lexer": "ipython3",
   "version": "3.9.6"
  }
 },
 "nbformat": 4,
 "nbformat_minor": 5
}
